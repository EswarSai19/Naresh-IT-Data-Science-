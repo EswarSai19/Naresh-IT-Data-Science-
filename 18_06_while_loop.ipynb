{
  "nbformat": 4,
  "nbformat_minor": 0,
  "metadata": {
    "colab": {
      "provenance": [],
      "authorship_tag": "ABX9TyO+XEkMayipcIhIJkmksGMo",
      "include_colab_link": true
    },
    "kernelspec": {
      "name": "python3",
      "display_name": "Python 3"
    },
    "language_info": {
      "name": "python"
    }
  },
  "cells": [
    {
      "cell_type": "markdown",
      "metadata": {
        "id": "view-in-github",
        "colab_type": "text"
      },
      "source": [
        "<a href=\"https://colab.research.google.com/github/EswarSai19/Naresh-IT-Data-Science-/blob/main/18_06_while_loop.ipynb\" target=\"_parent\"><img src=\"https://colab.research.google.com/assets/colab-badge.svg\" alt=\"Open In Colab\"/></a>"
      ]
    },
    {
      "cell_type": "code",
      "execution_count": null,
      "metadata": {
        "colab": {
          "base_uri": "https://localhost:8080/"
        },
        "id": "TDWMWJ0u-uY-",
        "outputId": "2434d9e9-860c-4be2-dada-152fce08c6b0"
      },
      "outputs": [
        {
          "output_type": "stream",
          "name": "stdout",
          "text": [
            "Hello\n"
          ]
        }
      ],
      "source": [
        "print(\"Hello\")"
      ]
    },
    {
      "cell_type": "code",
      "source": [],
      "metadata": {
        "id": "AUv6X5UIJ0Bt"
      },
      "execution_count": null,
      "outputs": []
    },
    {
      "cell_type": "markdown",
      "source": [
        "#First try"
      ],
      "metadata": {
        "id": "TM06ZR8NJ3Hj"
      }
    },
    {
      "cell_type": "markdown",
      "source": [],
      "metadata": {
        "id": "0IsJXlzQJywT"
      }
    },
    {
      "cell_type": "code",
      "source": [
        "import random\n",
        "\n",
        "def ask_input_from_user():\n",
        "  ip = int(input(\"Enter a number: \"))\n",
        "  while ip != 0 or ip != 1:\n",
        "    ip = int(input(\"Enter a number either 0 or 1: \"))\n",
        "  return ip\n",
        "\n",
        "def computer_predictions():\n",
        "  if user_ips[(len(user_ips))-1] == user_ips[len(user_ips)-2] == user_ips[len(user_ips)-3] == 0 and len(user_ips) >= 3:\n",
        "    return 0\n",
        "  elif user_ips[(len(user_ips))-1] == user_ips[len(user_ips)-2] == user_ips[len(user_ips)-3] == 1 and len(user_ips) >= 3:\n",
        "    return 1\n",
        "  else:\n",
        "    return random.randint(0,1)\n",
        "\n",
        "def score_updation():\n",
        "  pass\n",
        "  if user_number>comp_number:\n",
        "    user_score = user_score+1\n",
        "  elif user_number<comp_number:\n",
        "    comp_score = comp_score+1\n",
        "  else:\n",
        "    pass\n",
        "\n",
        "def score_results():\n",
        "  if user_score>comp_score:\n",
        "    print(\"You won the game\")\n",
        "    print(\"Your Score: \", user_score)\n",
        "    print(\"Computer Score: \", comp_score)\n",
        "  elif user_score<comp_score:\n",
        "    print(\"You loose the game\")\n",
        "    print(\"Your Score: \", user_score)\n",
        "    print(\"Computer Score: \", comp_score)\n",
        "  else:\n",
        "    Print(\"Match Tied\")\n",
        "\n",
        "\n",
        "user_ips = []\n",
        "user_score = 0\n",
        "comp_score = 0\n",
        "\n",
        "def start_game():\n",
        "  count = 1\n",
        "  user_ips = []\n",
        "  while count<=10:\n",
        "    user_number = ask_input_from_user()\n",
        "    user_ips.append(user_number)\n",
        "    comp_number = computer_predictions()\n",
        "    score_updation(user_number, comp_number)\n",
        "    count = count+1\n",
        "  score_results()\n",
        "\n",
        "start_game()\n",
        "\n",
        "\n",
        "\n",
        "\n",
        "\n"
      ],
      "metadata": {
        "id": "hochJn1R_AEC"
      },
      "execution_count": null,
      "outputs": []
    },
    {
      "cell_type": "code",
      "source": [],
      "metadata": {
        "id": "PUIR5TNr_s9X"
      },
      "execution_count": null,
      "outputs": []
    }
  ]
}