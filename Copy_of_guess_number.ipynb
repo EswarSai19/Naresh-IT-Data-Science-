{
  "nbformat": 4,
  "nbformat_minor": 0,
  "metadata": {
    "colab": {
      "provenance": [],
      "include_colab_link": true
    },
    "kernelspec": {
      "name": "python3",
      "display_name": "Python 3"
    },
    "language_info": {
      "name": "python"
    }
  },
  "cells": [
    {
      "cell_type": "markdown",
      "metadata": {
        "id": "view-in-github",
        "colab_type": "text"
      },
      "source": [
        "<a href=\"https://colab.research.google.com/github/EswarSai19/Naresh-IT-Data-Science-/blob/main/Copy_of_guess_number.ipynb\" target=\"_parent\"><img src=\"https://colab.research.google.com/assets/colab-badge.svg\" alt=\"Open In Colab\"/></a>"
      ]
    },
    {
      "cell_type": "markdown",
      "source": [
        "#Guess the Number Game\n",
        "\n",
        "---\n",
        "Create a simple \"Guess the Number\" game where the computer randomly selects a number, and the player tries to guess it. The player receives hints (higher/lower) after each guess until they correctly guess the number.\n",
        "\n",
        "---\n",
        "**Random Number Generation:**\n",
        " Use Python's random module to generate a random number within a specified range.\n",
        "\n",
        "User Input: Prompt the player to enter their guess.\n",
        "\n",
        "**Comparison and Feedback:**\n",
        " Compare the player's guess with the randomly generated number and provide feedback (higher/lower) until the player guesses correctly.\n",
        "\n",
        "**Game Loop:**\n",
        " Use a while loop to repeatedly prompt the player for guesses until they guess the correct number.\n",
        "\n",
        "**End Game:**\n",
        " Display a message when the player correctly guesses the number and indicate the number of attempts it took.\n",
        "\n"
      ],
      "metadata": {
        "id": "yqn0b77q4lz2"
      }
    },
    {
      "cell_type": "code",
      "source": [
        "\n",
        "import random\n",
        "guess = False\n",
        "count=0\n",
        "while guess != True:\n",
        "  user_guess = int(input(\"Enter your guess number in range of 1 to 5: \"))\n",
        "  while user_guess<1 or user_guess>5:\n",
        "    user_guess = int(input(\"Enter your guess number in range of 1 to 5: \"))\n",
        "  count=count+1\n",
        "  random_guess = random.randint(1,5)\n",
        "  if user_guess > random_guess:\n",
        "    print(\"Higher\")\n",
        "  elif user_guess < random_guess:\n",
        "    print(\"Lower\")\n",
        "  else:\n",
        "    print(f\"You guessed it in {count} attempts\")\n",
        "    guess = True"
      ],
      "metadata": {
        "id": "MgU5oCLl9f4h",
        "outputId": "ebbf07be-ee09-4b41-c317-b577c4f7c1ff",
        "colab": {
          "base_uri": "https://localhost:8080/"
        }
      },
      "execution_count": 4,
      "outputs": [
        {
          "output_type": "stream",
          "name": "stdout",
          "text": [
            "Enter your guess number in range of 1 to 5: 6\n",
            "Enter your guess number in range of 1 to 5: 5\n",
            "Higher\n",
            "Enter your guess number in range of 1 to 5: 2\n",
            "Lower\n",
            "Enter your guess number in range of 1 to 5: 1\n",
            "You guessed it in 3 attempts\n"
          ]
        }
      ]
    },
    {
      "cell_type": "code",
      "source": [],
      "metadata": {
        "id": "8wQiXt22_L04"
      },
      "execution_count": null,
      "outputs": []
    }
  ]
}